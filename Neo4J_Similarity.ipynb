{
 "cells": [
  {
   "cell_type": "code",
   "execution_count": null,
   "id": "2e900041",
   "metadata": {},
   "outputs": [],
   "source": [
    "import sys\n",
    "\n",
    "sys.path.append(\"..\")\n",
    "import itertools\n",
    "\n",
    "import pandas as pd\n",
    "from rdkit import DataStructs\n",
    "from rdkit import Chem\n",
    "from rdkit.Chem.rdMolDescriptors import GetMorganFingerprintAsBitVect\n",
    "from rdkit.Chem import PandasTools\n",
    "from rdkit.Chem import AllChem\n",
    "from rdkit.Chem import DataStructs\n",
    "import numpy as np\n",
    "from rdkit.Chem import MACCSkeys\n",
    "\n",
    "dataset = pd.read_csv('chembl_smiles.csv', nrows=10000,low_memory=False)\n",
    "dataset.head(5)"
   ]
  },
  {
   "cell_type": "code",
   "execution_count": null,
   "id": "83c5d982",
   "metadata": {},
   "outputs": [],
   "source": [
    "\n",
    "i = 0\n",
    "j = 0\n",
    "dat = pd.DataFrame()\n",
    "try:\n",
    "    for ind, row in dataset.iterrows():\n",
    "        mol = Chem.MolFromSmiles(dataset['canonical_smiles'][ind])\n",
    "        fp = AllChem.GetMorganFingerprintAsBitVect(mol, 2,\n",
    "                                                   nBits=2048).ToBitString()\n",
    "        ms = list(MACCSkeys.GenMACCSKeys(mol).ToBitString())\n",
    "        i = i + 1\n",
    "        dat = dat.append(\n",
    "            {\n",
    "                'chembl_id': dataset['chembl_id'][ind],\n",
    "                'SMILES': dataset['canonical_smiles'][ind],\n",
    "                'MACCS': list(ms),\n",
    "                'ECFP4': list(fp)\n",
    "            },\n",
    "            ignore_index=True)\n",
    "        if i == 5000:\n",
    "            j = j + 1\n",
    "            print(\"Batch : \", j)\n",
    "            i = 0\n",
    "except:\n",
    "    print(dataset['chembl_id'][ind])\n",
    "    #pass\n",
    "\n",
    "dat['ECFP4'] = dat.apply(lambda row: (','.join(row['ECFP4'])), axis=1)\n",
    "dat['MACCS'] = dat.apply(lambda row: (','.join(row['MACCS'])), axis=1)\n",
    "dat.to_csv('chembl_test.csv', sep=',', index=False)"
   ]
  },
  {
   "cell_type": "code",
   "execution_count": 2,
   "id": "3c465e6c",
   "metadata": {
    "ExecuteTime": {
     "end_time": "2022-11-20T19:06:15.687637Z",
     "start_time": "2022-11-20T19:06:15.592237Z"
    }
   },
   "outputs": [],
   "source": [
    "from neo4j import GraphDatabase\n",
    "\n",
    "\n",
    "class Neo4jConnection:\n",
    "\n",
    "    def __init__(self, uri, user, pwd):\n",
    "        self.__uri = uri\n",
    "        self.__user = user\n",
    "        self.__pwd = pwd\n",
    "        self.__driver = None\n",
    "        try:\n",
    "            self.__driver = GraphDatabase.driver(self.__uri,\n",
    "                                                 auth=(self.__user,\n",
    "                                                       self.__pwd))\n",
    "        except Exception as e:\n",
    "            print(\"Failed to create the driver:\", e)\n",
    "\n",
    "    def close(self):\n",
    "        if self.__driver is not None:\n",
    "            self.__driver.close()\n",
    "\n",
    "    def query(self, query, db=None):\n",
    "        assert self.__driver is not None, \"Driver not initialized!\"\n",
    "        session = None\n",
    "        response = None\n",
    "        try:\n",
    "            session = self.__driver.session(\n",
    "                database=db) if db is not None else self.__driver.session()\n",
    "            response = list(session.run(query))\n",
    "        except Exception as e:\n",
    "            print(\"Query failed:\", e)\n",
    "        finally:\n",
    "            if session is not None:\n",
    "                session.close()\n",
    "        return response"
   ]
  },
  {
   "cell_type": "code",
   "execution_count": 3,
   "id": "96555606",
   "metadata": {
    "ExecuteTime": {
     "end_time": "2022-11-20T19:06:16.416650Z",
     "start_time": "2022-11-20T19:06:16.407606Z"
    }
   },
   "outputs": [],
   "source": [
    "gph_conn = Neo4jConnection(uri=\"bolt://localhost:7687\", user=\"neo4j\", pwd=\"pass1\")"
   ]
  },
  {
   "cell_type": "code",
   "execution_count": null,
   "id": "3fc8f39b",
   "metadata": {},
   "outputs": [],
   "source": [
    "gph_conn.query(\"\"\"MATCH (n:Mol)\n",
    "DETACH DELETE n\"\"\")\n",
    "\n",
    "gph_conn.query(\"\"\"\n",
    "               // USING PERIODIC COMMIT 5000\n",
    "               LOAD CSV WITH HEADERS FROM 'file:///D:/Github/neo4j_book/chembl_test.csv' AS row\n",
    "               CREATE (m:Mol {CHEMBL_ID: row.chembl_id, SMILES: row.SMILES, ECFP4:[s IN split(row.ECFP4,\",\") | toFloat(s)],\n",
    "               MACCS:[m IN split(row.MACCS,\",\") | toFloat(m)]\n",
    "               }\n",
    "               )\n",
    "               \"\"\")"
   ]
  },
  {
   "cell_type": "code",
   "execution_count": 5,
   "id": "0ab1fae3",
   "metadata": {
    "ExecuteTime": {
     "end_time": "2022-11-20T19:06:50.012681Z",
     "start_time": "2022-11-20T19:06:44.165927Z"
    }
   },
   "outputs": [
    {
     "data": {
      "text/html": [
       "<div>\n",
       "<style scoped>\n",
       "    .dataframe tbody tr th:only-of-type {\n",
       "        vertical-align: middle;\n",
       "    }\n",
       "\n",
       "    .dataframe tbody tr th {\n",
       "        vertical-align: top;\n",
       "    }\n",
       "\n",
       "    .dataframe thead th {\n",
       "        text-align: right;\n",
       "    }\n",
       "</style>\n",
       "<table border=\"1\" class=\"dataframe\">\n",
       "  <thead>\n",
       "    <tr style=\"text-align: right;\">\n",
       "      <th></th>\n",
       "      <th>CHEMBL_ID</th>\n",
       "      <th>ECFP4</th>\n",
       "      <th>MACCS</th>\n",
       "    </tr>\n",
       "  </thead>\n",
       "  <tbody>\n",
       "    <tr>\n",
       "      <th>0</th>\n",
       "      <td>CHEMBL6254</td>\n",
       "      <td>1.000000</td>\n",
       "      <td>1.000000</td>\n",
       "    </tr>\n",
       "    <tr>\n",
       "      <th>1</th>\n",
       "      <td>CHEMBL6240</td>\n",
       "      <td>0.904762</td>\n",
       "      <td>1.000000</td>\n",
       "    </tr>\n",
       "    <tr>\n",
       "      <th>2</th>\n",
       "      <td>CHEMBL6363</td>\n",
       "      <td>0.833333</td>\n",
       "      <td>0.948908</td>\n",
       "    </tr>\n",
       "    <tr>\n",
       "      <th>3</th>\n",
       "      <td>CHEMBL268365</td>\n",
       "      <td>0.820347</td>\n",
       "      <td>0.959166</td>\n",
       "    </tr>\n",
       "    <tr>\n",
       "      <th>4</th>\n",
       "      <td>CHEMBL6237</td>\n",
       "      <td>0.811754</td>\n",
       "      <td>0.959166</td>\n",
       "    </tr>\n",
       "    <tr>\n",
       "      <th>5</th>\n",
       "      <td>CHEMBL6222</td>\n",
       "      <td>0.809524</td>\n",
       "      <td>1.000000</td>\n",
       "    </tr>\n",
       "    <tr>\n",
       "      <th>6</th>\n",
       "      <td>CHEMBL6329</td>\n",
       "      <td>0.782074</td>\n",
       "      <td>0.990148</td>\n",
       "    </tr>\n",
       "    <tr>\n",
       "      <th>7</th>\n",
       "      <td>CHEMBL267864</td>\n",
       "      <td>0.776524</td>\n",
       "      <td>0.990148</td>\n",
       "    </tr>\n",
       "    <tr>\n",
       "      <th>8</th>\n",
       "      <td>CHEMBL6214</td>\n",
       "      <td>0.765254</td>\n",
       "      <td>0.944911</td>\n",
       "    </tr>\n",
       "    <tr>\n",
       "      <th>9</th>\n",
       "      <td>CHEMBL266457</td>\n",
       "      <td>0.757240</td>\n",
       "      <td>0.863868</td>\n",
       "    </tr>\n",
       "  </tbody>\n",
       "</table>\n",
       "</div>"
      ],
      "text/plain": [
       "      CHEMBL_ID     ECFP4     MACCS\n",
       "0    CHEMBL6254  1.000000  1.000000\n",
       "1    CHEMBL6240  0.904762  1.000000\n",
       "2    CHEMBL6363  0.833333  0.948908\n",
       "3  CHEMBL268365  0.820347  0.959166\n",
       "4    CHEMBL6237  0.811754  0.959166\n",
       "5    CHEMBL6222  0.809524  1.000000\n",
       "6    CHEMBL6329  0.782074  0.990148\n",
       "7  CHEMBL267864  0.776524  0.990148\n",
       "8    CHEMBL6214  0.765254  0.944911\n",
       "9  CHEMBL266457  0.757240  0.863868"
      ]
     },
     "execution_count": 5,
     "metadata": {},
     "output_type": "execute_result"
    }
   ],
   "source": [
    "import pandas as pd\n",
    "results = gph_conn.query(\"\"\"MATCH (n1:Mol {CHEMBL_ID: 'CHEMBL6254'})\n",
    "                            MATCH (n2:Mol)\n",
    "                            RETURN n2.CHEMBL_ID,gds.similarity.cosine(n1.ECFP4,n2.ECFP4) AS ECFP4,\n",
    "                            gds.similarity.cosine(n1.MACCS,n2.MACCS) AS MACCS order by ECFP4 desc ;\n",
    "                                           \"\"\")\n",
    "result = pd.DataFrame(results)\n",
    "result = result.set_axis(['CHEMBL_ID', 'ECFP4', 'MACCS'], axis=1, inplace=False)\n",
    "result.head(10)"
   ]
  },
  {
   "cell_type": "code",
   "execution_count": null,
   "id": "cd71aae0",
   "metadata": {},
   "outputs": [],
   "source": []
  }
 ],
 "metadata": {
  "kernelspec": {
   "display_name": "Python [conda env:rdkit] *",
   "language": "python",
   "name": "conda-env-rdkit-py"
  },
  "language_info": {
   "codemirror_mode": {
    "name": "ipython",
    "version": 3
   },
   "file_extension": ".py",
   "mimetype": "text/x-python",
   "name": "python",
   "nbconvert_exporter": "python",
   "pygments_lexer": "ipython3",
   "version": "3.7.12"
  },
  "toc": {
   "base_numbering": 1,
   "nav_menu": {},
   "number_sections": true,
   "sideBar": true,
   "skip_h1_title": false,
   "title_cell": "Table of Contents",
   "title_sidebar": "Contents",
   "toc_cell": false,
   "toc_position": {},
   "toc_section_display": true,
   "toc_window_display": false
  },
  "varInspector": {
   "cols": {
    "lenName": 16,
    "lenType": 16,
    "lenVar": 40
   },
   "kernels_config": {
    "python": {
     "delete_cmd_postfix": "",
     "delete_cmd_prefix": "del ",
     "library": "var_list.py",
     "varRefreshCmd": "print(var_dic_list())"
    },
    "r": {
     "delete_cmd_postfix": ") ",
     "delete_cmd_prefix": "rm(",
     "library": "var_list.r",
     "varRefreshCmd": "cat(var_dic_list()) "
    }
   },
   "types_to_exclude": [
    "module",
    "function",
    "builtin_function_or_method",
    "instance",
    "_Feature"
   ],
   "window_display": false
  }
 },
 "nbformat": 4,
 "nbformat_minor": 5
}
